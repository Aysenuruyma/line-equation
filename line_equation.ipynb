{
 "cells": [
  {
   "cell_type": "markdown",
   "id": "common-nirvana",
   "metadata": {},
   "source": [
    "# Line equation"
   ]
  },
  {
   "cell_type": "code",
   "execution_count": 25,
   "id": "clinical-catering",
   "metadata": {},
   "outputs": [],
   "source": [
    "import matplotlib.pyplot as plt\n",
    "import numpy as np"
   ]
  },
  {
   "cell_type": "code",
   "execution_count": 26,
   "id": "honey-climb",
   "metadata": {},
   "outputs": [
    {
     "name": "stdout",
     "output_type": "stream",
     "text": [
      "(y=mx+n) \n"
     ]
    },
    {
     "name": "stdin",
     "output_type": "stream",
     "text": [
      "enter m:  5\n",
      "enter n:  6\n"
     ]
    },
    {
     "name": "stdout",
     "output_type": "stream",
     "text": [
      "the root of the equation is:  -1.2\n"
     ]
    }
   ],
   "source": [
    "print(\"(y=mx+n) \")\n",
    "m = int(input(\"enter m: \"))\n",
    "n = int(input(\"enter n: \"))\n",
    "\n",
    "print (\"the root of the equation is: \", (0 - n)/m)"
   ]
  },
  {
   "cell_type": "code",
   "execution_count": 31,
   "id": "approved-video",
   "metadata": {},
   "outputs": [
    {
     "name": "stdout",
     "output_type": "stream",
     "text": [
      "[-2.         -1.91836735 -1.83673469 -1.75510204 -1.67346939 -1.59183673\n",
      " -1.51020408 -1.42857143 -1.34693878 -1.26530612 -1.18367347 -1.10204082\n",
      " -1.02040816 -0.93877551 -0.85714286 -0.7755102  -0.69387755 -0.6122449\n",
      " -0.53061224 -0.44897959 -0.36734694 -0.28571429 -0.20408163 -0.12244898\n",
      " -0.04081633  0.04081633  0.12244898  0.20408163  0.28571429  0.36734694\n",
      "  0.44897959  0.53061224  0.6122449   0.69387755  0.7755102   0.85714286\n",
      "  0.93877551  1.02040816  1.10204082  1.18367347  1.26530612  1.34693878\n",
      "  1.42857143  1.51020408  1.59183673  1.67346939  1.75510204  1.83673469\n",
      "  1.91836735  2.        ]\n"
     ]
    }
   ],
   "source": [
    "x = np.linspace(-2,2)\n",
    "print(x)"
   ]
  },
  {
   "cell_type": "code",
   "execution_count": 32,
   "id": "increasing-morgan",
   "metadata": {},
   "outputs": [
    {
     "name": "stdout",
     "output_type": "stream",
     "text": [
      "[-4.         -3.59183673 -3.18367347 -2.7755102  -2.36734694 -1.95918367\n",
      " -1.55102041 -1.14285714 -0.73469388 -0.32653061  0.08163265  0.48979592\n",
      "  0.89795918  1.30612245  1.71428571  2.12244898  2.53061224  2.93877551\n",
      "  3.34693878  3.75510204  4.16326531  4.57142857  4.97959184  5.3877551\n",
      "  5.79591837  6.20408163  6.6122449   7.02040816  7.42857143  7.83673469\n",
      "  8.24489796  8.65306122  9.06122449  9.46938776  9.87755102 10.28571429\n",
      " 10.69387755 11.10204082 11.51020408 11.91836735 12.32653061 12.73469388\n",
      " 13.14285714 13.55102041 13.95918367 14.36734694 14.7755102  15.18367347\n",
      " 15.59183673 16.        ]\n"
     ]
    }
   ],
   "source": [
    "y = m*x + n\n",
    "print(y)"
   ]
  },
  {
   "cell_type": "code",
   "execution_count": 33,
   "id": "architectural-cosmetic",
   "metadata": {},
   "outputs": [
    {
     "data": {
      "image/png": "[encoded data removed]",
      "text/plain": [
       "<Figure size 432x288 with 1 Axes>"
      ]
     },
     "metadata": {
      "needs_background": "light"
     },
     "output_type": "display_data"
    }
   ],
   "source": [
    "plt.plot(x,y)\n",
    "plt.grid()"
   ]
  },
  {
   "cell_type": "code",
   "execution_count": null,
   "id": "equipped-harvard",
   "metadata": {},
   "outputs": [],
   "source": []
  }
 ],
 "metadata": {
  "kernelspec": {
   "display_name": "Python 3",
   "language": "python",
   "name": "python3"
  },
  "language_info": {
   "codemirror_mode": {
    "name": "ipython",
    "version": 3
   },
   "file_extension": ".py",
   "mimetype": "text/x-python",
   "name": "python",
   "nbconvert_exporter": "python",
   "pygments_lexer": "ipython3",
   "version": "3.9.1"
  }
 },
 "nbformat": 4,
 "nbformat_minor": 5
}
