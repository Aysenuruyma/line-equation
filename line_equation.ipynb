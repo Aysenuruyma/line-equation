{
 "cells": [
  {
   "cell_type": "markdown",
   "id": "enabling-degree",
   "metadata": {},
   "source": [
    "# Line equation"
   ]
  },
  {
   "cell_type": "code",
   "execution_count": 30,
   "id": "attached-blair",
   "metadata": {},
   "outputs": [],
   "source": [
    "import matplotlib.pyplot as plt\n",
    "import math as np"
   ]
  },
  {
   "cell_type": "code",
   "execution_count": 31,
   "id": "accomplished-alliance",
   "metadata": {},
   "outputs": [
    {
     "name": "stdout",
     "output_type": "stream",
     "text": [
      "to find the roots of the line equation (y=mx+n) enter the coeffient of y: 4\n",
      "enter the coeffient of x: 5\n",
      "enter the constant term: 6\n",
      "the root of the equation is:  -0.4\n"
     ]
    }
   ],
   "source": [
    "coeff_y = int(input(\"to find the roots of the line equation (y=mx+n) enter the coeffient of y: \"))\n",
    "coeff_x = int(input(\"enter the coeffient of x: \"))\n",
    "coeff_c = int(input(\"enter the constant term: \"))\n",
    "\n",
    "print (\"the root of the equation is: \", (coeff_y - coeff_c)/coeff_x)"
   ]
  },
  {
   "cell_type": "code",
   "execution_count": 32,
   "id": "healthy-navigation",
   "metadata": {},
   "outputs": [
    {
     "data": {
      "image/png": "[encoded data removed]",
      "text/plain": [
       "<Figure size 432x288 with 1 Axes>"
      ]
     },
     "metadata": {
      "needs_background": "light"
     },
     "output_type": "display_data"
    }
   ],
   "source": [
    "plt.plot ([coeff_y - coeff_c/coeff_x, 0], [coeff_c, 0], c='r')\n",
    "plt.grid ()"
   ]
  },
  {
   "cell_type": "code",
   "execution_count": null,
   "id": "under-recommendation",
   "metadata": {},
   "outputs": [],
   "source": []
  },
  {
   "cell_type": "code",
   "execution_count": null,
   "id": "israeli-norway",
   "metadata": {},
   "outputs": [],
   "source": []
  }
 ],
 "metadata": {
  "kernelspec": {
   "display_name": "Python 3",
   "language": "python",
   "name": "python3"
  },
  "language_info": {
   "codemirror_mode": {
    "name": "ipython",
    "version": 3
   },
   "file_extension": ".py",
   "mimetype": "text/x-python",
   "name": "python",
   "nbconvert_exporter": "python",
   "pygments_lexer": "ipython3",
   "version": "3.9.1"
  }
 },
 "nbformat": 4,
 "nbformat_minor": 5
}
